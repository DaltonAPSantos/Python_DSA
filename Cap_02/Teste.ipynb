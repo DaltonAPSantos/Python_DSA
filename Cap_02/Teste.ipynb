{
 "cells": [
  {
   "cell_type": "code",
   "execution_count": 1,
   "id": "beddd621-9d15-4350-8a9e-7a16d630eb48",
   "metadata": {},
   "outputs": [
    {
     "data": {
      "text/plain": [
       "4"
      ]
     },
     "execution_count": 1,
     "metadata": {},
     "output_type": "execute_result"
    }
   ],
   "source": [
    "2+2"
   ]
  },
  {
   "cell_type": "code",
   "execution_count": 2,
   "id": "da565734-28ca-4a01-930d-c1a2b735dd29",
   "metadata": {},
   "outputs": [
    {
     "name": "stdout",
     "output_type": "stream",
     "text": [
      "Hello word\n"
     ]
    }
   ],
   "source": [
    "print('Hello word')"
   ]
  },
  {
   "cell_type": "code",
   "execution_count": 2,
   "id": "275b46be-c9bb-4c0f-8736-99af28df3ccc",
   "metadata": {},
   "outputs": [],
   "source": [
    "numeros = list(range(1,101))"
   ]
  },
  {
   "cell_type": "code",
   "execution_count": 3,
   "id": "14308101-2924-4d7a-b80f-67063e11166f",
   "metadata": {},
   "outputs": [
    {
     "data": {
      "text/plain": [
       "list"
      ]
     },
     "execution_count": 3,
     "metadata": {},
     "output_type": "execute_result"
    }
   ],
   "source": [
    "type(numeros)"
   ]
  },
  {
   "cell_type": "code",
   "execution_count": 4,
   "id": "665534db-fffb-45eb-aac8-c5f651b1788a",
   "metadata": {},
   "outputs": [
    {
     "name": "stdout",
     "output_type": "stream",
     "text": [
      "4\n",
      "8\n",
      "12\n",
      "16\n",
      "20\n",
      "24\n",
      "28\n",
      "32\n",
      "36\n",
      "40\n",
      "44\n",
      "48\n",
      "52\n",
      "56\n",
      "60\n",
      "64\n",
      "68\n",
      "72\n",
      "76\n",
      "80\n",
      "84\n",
      "88\n",
      "92\n",
      "96\n",
      "100\n"
     ]
    }
   ],
   "source": [
    "for numero in numeros:\n",
    "    if numero %2 == 0 and numero %4 == 0:\n",
    "        print(numero)"
   ]
  },
  {
   "cell_type": "code",
   "execution_count": 13,
   "id": "9612bbf4-9d96-416d-92d7-3d41d3acfb30",
   "metadata": {},
   "outputs": [],
   "source": [
    "numeros2 = list(range(1,101))"
   ]
  },
  {
   "cell_type": "code",
   "execution_count": 16,
   "id": "5c833369-79cb-481f-893f-f0134fcd15a4",
   "metadata": {},
   "outputs": [],
   "source": [
    "pares_div4 = [numero for numero in numeros2 if numero %2 == 0 and numero %4 == 0]"
   ]
  },
  {
   "cell_type": "code",
   "execution_count": 17,
   "id": "b2e505ea-95b2-459b-b1fa-dca53d83de11",
   "metadata": {},
   "outputs": [
    {
     "name": "stdout",
     "output_type": "stream",
     "text": [
      "[4, 8, 12, 16, 20, 24, 28, 32, 36, 40, 44, 48, 52, 56, 60, 64, 68, 72, 76, 80, 84, 88, 92, 96, 100]\n"
     ]
    }
   ],
   "source": [
    "print(pares_div4)"
   ]
  },
  {
   "cell_type": "code",
   "execution_count": null,
   "id": "b0f6fb28-fa16-4285-b168-cfb10e3fce88",
   "metadata": {},
   "outputs": [],
   "source": []
  }
 ],
 "metadata": {
  "kernelspec": {
   "display_name": "Python 3 (ipykernel)",
   "language": "python",
   "name": "python3"
  },
  "language_info": {
   "codemirror_mode": {
    "name": "ipython",
    "version": 3
   },
   "file_extension": ".py",
   "mimetype": "text/x-python",
   "name": "python",
   "nbconvert_exporter": "python",
   "pygments_lexer": "ipython3",
   "version": "3.11.9"
  }
 },
 "nbformat": 4,
 "nbformat_minor": 5
}
